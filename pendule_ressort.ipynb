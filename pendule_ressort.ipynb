{
 "cells": [
  {
   "cell_type": "code",
   "execution_count": null,
   "metadata": {},
   "outputs": [],
   "source": [
    "import sys\n",
    "import os\n",
    "import pylab\n",
    "import numpy as np\n",
    "from scipy.integrate import odeint, solve_ivp\n",
    "import matplotlib.pyplot as plt\n",
    "from matplotlib.patches import Circle, ConnectionPatch \n",
    "from matplotlib import animation, rc\n",
    "from IPython.display import HTML, Image\n",
    "\n",
    "dir = os.path.dirname(os.path.realpath('__file__'))\n",
    "pylab.rcParams['figure.figsize'] = (12.0, 12.0) #configure the figure\n",
    "\n",
    "def deriv(y, t, L1, L2, m1, m2):\n",
    "    \"\"\"On renvoie les dérivées de y = theta1, theta1dot, theta2, theta2dot.\"\"\"\n",
    "    theta1, theta1dot, theta2, theta2dot = y\n",
    "\n",
    "    c, s = np.cos(theta1-theta2), np.sin(theta1-theta2)\n",
    "\n",
    "    theta1dot2 = (m2*g*np.sin(theta2)*c - m2*s*(L1*theta1dot**2*c + L2*theta2dot**2) -\n",
    "             (m1+m2)*g*np.sin(theta1)) / L1 / (m1 + m2*s**2)\n",
    "\n",
    "    theta2dot2 = ((m1+m2)*(L1*theta1dot**2*s - g*np.sin(theta2) + g*np.sin(theta1)*c) +\n",
    "             m2*L2*theta2dot**2*s*c) / L2 / (m1 + m2*s**2)\n",
    "    return theta1dot, theta1dot2, theta2dot, theta2dot2\n",
    "\n",
    "def calc_Em(y):\n",
    "    \"\"\"Calcul de l'énergie mécanique du système\"\"\"\n",
    "\n",
    "    theta1, theta1dot, theta2, theta2dot = y.T\n",
    "    E_p = -(m1+m2)*L1*g*np.cos(theta1) - m2*L2*g*np.cos(theta2)\n",
    "    E_c = 0.5*m1*(L1*theta1dot)**2 + 0.5*m2*((L1*theta1dot)**2 + (L2*theta2dot)**2 +\n",
    "            2*L1*L2*theta1dot*theta2dot*np.cos(theta1-theta2))\n",
    "    return E_c + E_p"
   ]
  },
  {
   "cell_type": "markdown",
   "metadata": {},
   "source": [
    "## Paramètres du problème\n",
    "- L1 : Longueur de la barre 1\n",
    "- L2 : Longueur de la barre 2\n",
    "- m1 : masse de la particule 1\n",
    "- m2 : masse de la particule 2\n",
    "- g : axccélération gravitationelle"
   ]
  },
  {
   "cell_type": "code",
   "execution_count": 1,
   "metadata": {},
   "outputs": [],
   "source": [
    "# Pendulum rod lengths (m), bob masses (kg).\n",
    "L1, L2 = 1, 1\n",
    "m1, m2 = 1, 1\n",
    "# The gravitational acceleration (m.s-2).\n",
    "g = 9.81"
   ]
  },
  {
   "cell_type": "code",
   "execution_count": null,
   "metadata": {},
   "outputs": [],
   "source": [
    "# Maximum time, time point spacings and the time grid (all in s).\n",
    "tmax, dt = 1, 0.01\n",
    "t = np.arange(0, tmax+dt, dt)\n",
    "# Initial conditions: theta1, dtheta1/dt, theta2, dtheta2/dt.\n",
    "y0 = np.array([3*np.pi/2, 0, 3*np.pi/4, 0])\n",
    "\n",
    "# Do the numerical integration of the equations of motion\n",
    "y = odeint(deriv, y0, t, args=(L1, L2, m1, m2))\n",
    "\n",
    "# Check that the calculation conserves total energy to within some tolerance.\n",
    "EDRIFT = 0.05\n",
    "# Total energy from the initial conditions\n",
    "Em = calc_Em(y0)\n",
    "if np.max(np.sum(np.abs(calc_Em(y) - Em))) > EDRIFT:\n",
    "    sys.exit('Maximum energy drift of {} exceeded.'.format(EDRIFT))\n",
    "\n",
    "# Unpack z and theta as a function of time\n",
    "theta1, theta2 = y[:,0], y[:,2]\n",
    "\n",
    "# Convert to Cartesian coordinates of the two bob positions.\n",
    "x1 = L1 * np.sin(theta1)\n",
    "y1 = -L1 * np.cos(theta1)\n",
    "x2 = x1 + L2 * np.sin(theta2)\n",
    "y2 = y1 - L2 * np.cos(theta2)\n",
    "\n",
    "# Plotted bob circle radius\n",
    "r = 0.05\n",
    "# Plot a trail of the m2 bob's position for the last trail_secs seconds.\n",
    "trail_secs = 1\n",
    "# This corresponds to max_trail time points.\n",
    "max_trail = int(trail_secs / dt)"
   ]
  },
  {
   "cell_type": "code",
   "execution_count": null,
   "metadata": {},
   "outputs": [],
   "source": [
    "fig = plt.figure()\n",
    "ax = plt.axes(xlim=(-2, 2), ylim=(-2, 2))\n",
    "plt.plot(x1,y1, ls='--', c='b')\n",
    "plt.plot(x2,y2, ls='--', c='r')\n",
    "\n",
    "c0 = Circle((0, 0), r/2, fc='k', zorder=10)\n",
    "c1 = Circle((x1[0], y1[0]), r, fc='b', ec='b', zorder=10)\n",
    "c2 = Circle((x2[0], y2[0]), r, fc='r', ec='r', zorder=10)\n",
    "c0.center = (0, 0)\n",
    "c1.center = (x1[0], y1[0])\n",
    "c2.center = (x2[0], y2[0])   \n",
    "dotted_line1 = plt.Line2D((0., x1[0]), (0., y1[0]), lw=5., ls='-.', alpha=0.5)\n",
    "dotted_line2 = plt.Line2D((x1[0], x2[0]), (y1[0], y2[0]), lw=5., ls='-.', alpha=0.5)\n",
    "ax.add_patch(c0)\n",
    "ax.add_patch(c1)    \n",
    "ax.add_patch(c2)\n",
    "ax.add_line(dotted_line1)\n",
    "ax.add_line(dotted_line2)\n",
    "\n",
    "plt.show()"
   ]
  }
 ],
 "metadata": {
  "kernelspec": {
   "display_name": "Python 3",
   "language": "python",
   "name": "python3"
  },
  "language_info": {
   "codemirror_mode": {
    "name": "ipython",
    "version": 3
   },
   "file_extension": ".py",
   "mimetype": "text/x-python",
   "name": "python",
   "nbconvert_exporter": "python",
   "pygments_lexer": "ipython3",
   "version": "3.7.7"
  }
 },
 "nbformat": 4,
 "nbformat_minor": 2
}
